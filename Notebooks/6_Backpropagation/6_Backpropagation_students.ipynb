{
 "cells": [
  {
   "cell_type": "markdown",
   "metadata": {},
   "source": [
    "# HaMLeT\n",
    "\n",
    "## Session 6: Backpropagation\n",
    "by Leon Weninger and Raphael Kolk\n",
    "\n",
    "### Goal of this Session\n",
    "\n",
    "In this session you will, step by step, implement a the backpropagation algorithm yourself without using any deep learning libraries. You should already be familiar with Python as well as NumPy (a package for scientific computing with Python)."
   ]
  },
  {
   "cell_type": "markdown",
   "metadata": {},
   "source": [
    "### Given code\n",
    "\n",
    "**Task 0:** Familiarize yourself briefly with the given code. Pay particural attention to the `Layer` and `Cost` classes, from which you will derive the classes you implement, and the `Sigmoid` layer which is predefined as an example. You'll also need to execute the cells in this section once.\n",
    "\n",
    "The following code loads the data and trains the network in a similar fashion as in the last session."
   ]
  },
  {
   "cell_type": "code",
   "execution_count": 7,
   "metadata": {},
   "outputs": [],
   "source": [
    "import numpy as np\n",
    "from tqdm import tqdm\n",
    "from load_mnist import MNIST\n",
    "\n",
    "\n",
    "def vectorize(j):\n",
    "    label_vector = np.zeros((1, 10))\n",
    "    label_vector[0, int(j)] = 1.0\n",
    "    return label_vector\n",
    "\n",
    "\n",
    "def load_data():\n",
    "    mnist = MNIST()\n",
    "    images, labels = mnist.data, mnist.target\n",
    "\n",
    "    image_size = images.shape[1]\n",
    "    label_size = labels.shape[1]\n",
    "\n",
    "    random_permutation = np.random.permutation(images.shape[0])\n",
    "    images = images[random_permutation, :]\n",
    "    labels = labels[random_permutation, :]\n",
    "    \n",
    "    images = (images - np.mean(images))/np.std(images)\n",
    "\n",
    "    return images, labels, image_size, label_size\n",
    "\n",
    "\n",
    "def train(net, cost_function, number_epochs, batch_size, learning_rate):\n",
    "    images, labels, image_size, label_size = load_data()\n",
    "    training_images, validation_images = images[:50000], images[50000:]\n",
    "    training_labels, validation_labels = labels[:50000], labels[50000:]\n",
    "\n",
    "    for e in range(number_epochs):\n",
    "        cost = train_epoch(e, net, training_images, training_labels, cost_function, batch_size, learning_rate)\n",
    "        accuracy = validate_epoch(e, net, validation_images, validation_labels, batch_size)\n",
    "        print('cost=%5.6f, accuracy=%2.6f' % (cost, accuracy), flush=True)\n",
    "\n",
    "\n",
    "def train_epoch(e, net, images, labels, cost_function, batch_size, learning_rate):\n",
    "    epoch_cost = 0\n",
    "\n",
    "    for i in tqdm(range(0, len(images), batch_size), ascii=False, desc='training,   e=%i' % e):\n",
    "        batch_images = images[i:min(i + batch_size, len(images)), :]\n",
    "        batch_labels = labels[i:min(i + batch_size, len(labels)), :]\n",
    "\n",
    "        # zero the gradients\n",
    "        net.zero_gradients()\n",
    "\n",
    "        # forward pass\n",
    "        prediction = net.forward(batch_images)\n",
    "        cost = cost_function.estimate(batch_labels, prediction)\n",
    "\n",
    "        # backward pass\n",
    "        dprediction = cost_function.gradient(cost)\n",
    "        net.backward(dprediction)\n",
    "\n",
    "        # update the parameters using the computed gradients via stochastic gradient descent.\n",
    "        net.update_parameters(learning_rate)\n",
    "\n",
    "        epoch_cost += np.mean(cost)\n",
    "\n",
    "    return epoch_cost\n",
    "\n",
    "\n",
    "def validate_epoch(e, net, images, labels, batch_size):\n",
    "    n_correct = 0\n",
    "    n_total = 0\n",
    "\n",
    "    for i in tqdm(range(0, len(images), batch_size), ascii=False, desc='validation, e=%i' % e):\n",
    "        batch_images = images[i:min(i + batch_size, len(images)), :]\n",
    "        batch_labels = labels[i:min(i + batch_size, len(labels)), :]\n",
    "\n",
    "        # compute predicted probabilities.\n",
    "        predictions = net.forward(batch_images)\n",
    "\n",
    "        # find the most probable class label.\n",
    "        n_correct += sum(np.argmax(batch_labels, axis=1) == np.argmax(predictions, axis=1))\n",
    "        n_total += batch_labels.shape[0]\n",
    "\n",
    "    return n_correct / n_total\n"
   ]
  },
  {
   "cell_type": "markdown",
   "metadata": {},
   "source": [
    "Remember the sigmoid function and its derivative you implemented in the previous session."
   ]
  },
  {
   "cell_type": "code",
   "execution_count": 8,
   "metadata": {},
   "outputs": [],
   "source": [
    "def sigmoid_function(var):\n",
    "    return 1.0 / (1.0 + np.exp(-var))\n",
    "\n",
    "\n",
    "def sigmoid_derivative(z):\n",
    "    return sigmoid_function(z) * (1 - sigmoid_function(z))"
   ]
  },
  {
   "cell_type": "markdown",
   "metadata": {},
   "source": [
    "The following abstract classes should serve as parent classes for all the different layers and cost functions which you will implement. "
   ]
  },
  {
   "cell_type": "code",
   "execution_count": 9,
   "metadata": {},
   "outputs": [],
   "source": [
    "class Layer:\n",
    "    def __init__(self):\n",
    "        # Initialize all member variables of the layer.\n",
    "        pass\n",
    "\n",
    "    def forward(self, x_in):\n",
    "        # Implemets for forward pass of the layer and returns x_out.\n",
    "        pass\n",
    "\n",
    "    def backward(self, d_out):\n",
    "        # Implements the backward pass of the layer and returns d_in.\n",
    "        pass\n",
    "\n",
    "    def zero_gradients(self):\n",
    "        # Sets all gradients of the layer to zero.\n",
    "        pass\n",
    "\n",
    "    def update_parameters(self, learning_rate):\n",
    "        # Update the parameters of the layer with the help of the gradients stored during the backward pass.\n",
    "        pass\n",
    "\n",
    "\n",
    "class Cost:\n",
    "    def __init__(self):\n",
    "        # Initialize all member variables of the cost function.\n",
    "        pass\n",
    "\n",
    "    def estimate(self, target, prediction):\n",
    "        # Estimates and return the cost with respect to the predicted label and a target label previously set by set_target().\n",
    "        pass\n",
    "\n",
    "    def gradient(self, cost):\n",
    "        # Calculates and returns the gradient with respect to the cost.\n",
    "        pass"
   ]
  },
  {
   "cell_type": "markdown",
   "metadata": {},
   "source": [
    "The following class derived from the Layer class implements the forward and backward pass of the sigmoid activation function alread known from the previous session and serves as an example for you. Since it does not have learnable parameters, no `update_parameters` or `zero_gradients` function needs to be implemented."
   ]
  },
  {
   "cell_type": "code",
   "execution_count": 10,
   "metadata": {},
   "outputs": [],
   "source": [
    "class Sigmoid(Layer):\n",
    "    def __init__(self):\n",
    "        self.x_in = None\n",
    "    \n",
    "    def forward(self, x_in):\n",
    "        self.x_in = x_in\n",
    "        x_out = sigmoid_function(x_in)\n",
    "        return x_out\n",
    "    \n",
    "    def backward(self, d_out):\n",
    "        d_in = d_out * sigmoid_derivative(self.x_in)\n",
    "        return d_in\n",
    "    \n",
    "    def zero_gradients(self):\n",
    "        pass\n",
    "    \n",
    "    def update_parameters(self, learning_rate):\n",
    "        pass"
   ]
  },
  {
   "cell_type": "markdown",
   "metadata": {},
   "source": [
    "### Theoretical Foundation \n",
    "\n",
    "**Task 1a:** Take a peace of paper and a pencil, use your knowledge from the preparation material and the introduction slides and fill in the gaps in the preparation material. Having written the formulas down, please check with the tutor if they are correct.\n",
    "\n",
    "Before starting to work on the code, think about batched forward- and backward passing. We keep to the convention of having the batch as the first dimension of all tensors. This is consistent with modern Deep Learning Frameworks, as you will get to know in the next session. However, this convention may change when tensors needs to be transposed when performing multiplications and additions."
   ]
  },
  {
   "cell_type": "code",
   "execution_count": null,
   "metadata": {},
   "outputs": [],
   "source": []
  },
  {
   "cell_type": "markdown",
   "metadata": {},
   "source": [
    "### Practical Implementation\n",
    "\n",
    "**Task 2a:** Implement the `forward` function for the `Linear` layer. Remember to store the `x_in` for use in the backward pass.\n",
    "\n",
    "**Task 2b:** Implement the `estimate` function for the `MeanSquareError` cost, which estimates the cost after a ground truth target is set. Remember to store the `prediction` for calculating the gradient.\n",
    "\n",
    "**Task 2c:** Implement the `gradient` function for the `MeanSquareError` cost, which calculates the gradient with respect to the cost. Use the `prediction` stored during the forward pass.\n",
    "\n",
    "**Task 2d:** Implement the `backward` function for the `Linear` layer. The function should also calculate and accumulate the gradient of `w` and `b` with regard to the error.\n",
    "\n",
    "**Task 2e:** Implement the `update_parameters` function for the `Linear` layer, i.e., use the gradients `dw` and `db` together with a given `learning_rate` to update the parameters `w` and `b` accordingly.\n",
    "\n",
    "**Task 2f:** Test your implementation by propagating random input through a linear layer followed by a sigmoid layer, estimating the mean square error to a random target, calculating the gradient and propagating it back through the sigmoid and linear layer. Afterwards update the parameters of the linear layer using the function you implemented.\n",
    "\n",
    "**Task 3a:** Implement the `Network` class which can encapsulate multiple layers. It offers the same interface as a layer and is therefore derived from the `Layer` parent as well. Make sure to implement all member functions needed. The `forward` function propagates a given input through all encapsulated layers and returns the final prediction of the network, whereas the `backward` function propagates a given gradient through all layers in reversed order. `zero_gradients` and `update_parameters` invoke the respective functions of the encapsulated layers.\n",
    "\n",
    "**Task 3b:** Test your implementation analogous to task 2f but using the `Network` class to encapsulate the linear and sigmoid layer.\n",
    "\n",
    "**Task 4:** Train the network you just implemented using the dataloader and train function given above and the hyperparameter given below.\n",
    "\n",
    "**Task 5:** Come up with a more sophisticated network structure and adjust the hyperparameter in order to increase the accuracy."
   ]
  },
  {
   "cell_type": "code",
   "execution_count": 11,
   "metadata": {},
   "outputs": [],
   "source": [
    "class Linear(Layer):\n",
    "    def __init__(self, n_in, n_out, initial_sigma=0.1):\n",
    "        self.n_in = n_in\n",
    "        self.n_out = n_out\n",
    "\n",
    "        self.w = initial_sigma * np.random.randn(n_out, n_in)\n",
    "        self.b = np.zeros((1, n_out))\n",
    "\n",
    "        self.zero_gradients()\n",
    "\n",
    "        self.x_in = None\n",
    "\n",
    "    def forward(self, x_in):\n",
    "        # ----- Add code for task 2a between comments -----\n",
    "        # -------------------------------------------------\n",
    "        return x_out\n",
    "\n",
    "    def backward(self, d_out):\n",
    "        # ----- Add code for task 2d between comments -----\n",
    "        # -------------------------------------------------\n",
    "        return self.d_in\n",
    "\n",
    "    def zero_gradients(self):\n",
    "        self.dw = np.zeros((self.n_out, self.n_in))\n",
    "        self.db = np.zeros((1, self.n_out))\n",
    "        self.dx = np.empty((0, self.n_in))\n",
    "\n",
    "    def update_parameters(self, learning_rate):\n",
    "        # ----- Add code for task 2e between comments -----\n",
    "        # -------------------------------------------------\n",
    "\n",
    "\n",
    "class MeanSquareError(Cost):\n",
    "    def __init__(self):\n",
    "        self.prediction = None\n",
    "        self.target = None\n",
    "\n",
    "    def estimate(self, target, prediction):\n",
    "        # ----- add code for task 2b between comments -----\n",
    "        # -------------------------------------------------\n",
    "        return cost\n",
    "\n",
    "    def gradient(self, cost):\n",
    "        # ----- add code for task 2c between comments -----\n",
    "        # -------------------------------------------------\n",
    "        return gradient\n",
    "\n",
    "\n",
    "class Network(Layer):\n",
    "    def __init__(self, layers):\n",
    "        self.layers = layers\n",
    "\n",
    "    # ----- add code for task 3a between comments -----\n",
    "    # -------------------------------------------------"
   ]
  },
  {
   "cell_type": "code",
   "execution_count": null,
   "metadata": {},
   "outputs": [
    {
     "name": "stderr",
     "output_type": "stream",
     "text": [
      "/miniconda3/envs/py36n/lib/python3.6/site-packages/sklearn/preprocessing/_encoders.py:373: DeprecationWarning: Passing 'n_values' is deprecated in version 0.20 and will be removed in 0.22. You can use the 'categories' keyword instead. 'n_values=n' corresponds to 'categories=[range(n)] * n_features'.\n",
      "  warnings.warn(msg, DeprecationWarning)\n",
      "training,   e=0: 100%|██████████| 84/84 [00:00<00:00, 259.58it/s]\n",
      "validation, e=0: 100%|██████████| 34/34 [00:00<00:00, 134.09it/s]"
     ]
    },
    {
     "name": "stdout",
     "output_type": "stream",
     "text": [
      "cost=4.257650, accuracy=0.480400\n"
     ]
    },
    {
     "name": "stderr",
     "output_type": "stream",
     "text": [
      "\n",
      "training,   e=1: 100%|██████████| 84/84 [00:00<00:00, 211.01it/s]\n",
      "validation, e=1: 100%|██████████| 34/34 [00:00<00:00, 189.29it/s]"
     ]
    },
    {
     "name": "stdout",
     "output_type": "stream",
     "text": [
      "cost=2.631974, accuracy=0.585800\n"
     ]
    },
    {
     "name": "stderr",
     "output_type": "stream",
     "text": [
      "\n",
      "training,   e=2: 100%|██████████| 84/84 [00:00<00:00, 226.68it/s]\n",
      "validation, e=2: 100%|██████████| 34/34 [00:00<00:00, 204.06it/s]"
     ]
    },
    {
     "name": "stdout",
     "output_type": "stream",
     "text": [
      "cost=2.234602, accuracy=0.665700\n"
     ]
    },
    {
     "name": "stderr",
     "output_type": "stream",
     "text": [
      "\n",
      "training,   e=3: 100%|██████████| 84/84 [00:00<00:00, 198.43it/s]\n",
      "validation, e=3: 100%|██████████| 34/34 [00:00<00:00, 217.92it/s]"
     ]
    },
    {
     "name": "stdout",
     "output_type": "stream",
     "text": [
      "cost=1.939012, accuracy=0.722750\n"
     ]
    },
    {
     "name": "stderr",
     "output_type": "stream",
     "text": [
      "\n",
      "training,   e=4: 100%|██████████| 84/84 [00:00<00:00, 195.44it/s]\n",
      "validation, e=4: 100%|██████████| 34/34 [00:00<00:00, 110.96it/s]"
     ]
    },
    {
     "name": "stdout",
     "output_type": "stream",
     "text": [
      "cost=1.633267, accuracy=0.790350\n"
     ]
    },
    {
     "name": "stderr",
     "output_type": "stream",
     "text": [
      "\n",
      "training,   e=5: 100%|██████████| 84/84 [00:00<00:00, 210.31it/s]\n",
      "validation, e=5: 100%|██████████| 34/34 [00:00<00:00, 177.73it/s]"
     ]
    },
    {
     "name": "stdout",
     "output_type": "stream",
     "text": [
      "cost=1.408454, accuracy=0.820550\n"
     ]
    },
    {
     "name": "stderr",
     "output_type": "stream",
     "text": [
      "\n",
      "training,   e=6: 100%|██████████| 84/84 [00:00<00:00, 139.58it/s]\n",
      "validation, e=6: 100%|██████████| 34/34 [00:00<00:00, 184.26it/s]"
     ]
    },
    {
     "name": "stdout",
     "output_type": "stream",
     "text": [
      "cost=1.281400, accuracy=0.836050\n"
     ]
    },
    {
     "name": "stderr",
     "output_type": "stream",
     "text": [
      "\n",
      "training,   e=7: 100%|██████████| 84/84 [00:00<00:00, 176.91it/s]\n",
      "validation, e=7: 100%|██████████| 34/34 [00:00<00:00, 188.99it/s]"
     ]
    },
    {
     "name": "stdout",
     "output_type": "stream",
     "text": [
      "cost=1.197316, accuracy=0.847050\n"
     ]
    },
    {
     "name": "stderr",
     "output_type": "stream",
     "text": [
      "\n",
      "training,   e=8: 100%|██████████| 84/84 [00:00<00:00, 206.90it/s]\n",
      "validation, e=8: 100%|██████████| 34/34 [00:00<00:00, 192.46it/s]"
     ]
    },
    {
     "name": "stdout",
     "output_type": "stream",
     "text": [
      "cost=1.136904, accuracy=0.856950\n"
     ]
    },
    {
     "name": "stderr",
     "output_type": "stream",
     "text": [
      "\n",
      "training,   e=9: 100%|██████████| 84/84 [00:00<00:00, 210.77it/s]\n",
      "validation, e=9: 100%|██████████| 34/34 [00:00<00:00, 208.34it/s]"
     ]
    },
    {
     "name": "stdout",
     "output_type": "stream",
     "text": [
      "cost=1.091267, accuracy=0.862400\n"
     ]
    },
    {
     "name": "stderr",
     "output_type": "stream",
     "text": [
      "\n",
      "training,   e=10: 100%|██████████| 84/84 [00:00<00:00, 255.39it/s]\n",
      "validation, e=10: 100%|██████████| 34/34 [00:00<00:00, 334.74it/s]"
     ]
    },
    {
     "name": "stdout",
     "output_type": "stream",
     "text": [
      "cost=1.055388, accuracy=0.866200\n"
     ]
    },
    {
     "name": "stderr",
     "output_type": "stream",
     "text": [
      "\n",
      "training,   e=11: 100%|██████████| 84/84 [00:00<00:00, 317.86it/s]\n",
      "validation, e=11: 100%|██████████| 34/34 [00:00<00:00, 155.11it/s]"
     ]
    },
    {
     "name": "stdout",
     "output_type": "stream",
     "text": [
      "cost=1.026254, accuracy=0.869450\n"
     ]
    },
    {
     "name": "stderr",
     "output_type": "stream",
     "text": [
      "\n",
      "training,   e=12: 100%|██████████| 84/84 [00:00<00:00, 247.46it/s]\n",
      "validation, e=12: 100%|██████████| 34/34 [00:00<00:00, 306.60it/s]"
     ]
    },
    {
     "name": "stdout",
     "output_type": "stream",
     "text": [
      "cost=1.001979, accuracy=0.872650\n"
     ]
    },
    {
     "name": "stderr",
     "output_type": "stream",
     "text": [
      "\n",
      "training,   e=13: 100%|██████████| 84/84 [00:00<00:00, 298.34it/s]\n",
      "validation, e=13: 100%|██████████| 34/34 [00:00<00:00, 303.30it/s]"
     ]
    },
    {
     "name": "stdout",
     "output_type": "stream",
     "text": [
      "cost=0.981329, accuracy=0.875000\n"
     ]
    },
    {
     "name": "stderr",
     "output_type": "stream",
     "text": [
      "\n",
      "training,   e=14: 100%|██████████| 84/84 [00:00<00:00, 224.28it/s]\n",
      "validation, e=14: 100%|██████████| 34/34 [00:00<00:00, 246.33it/s]"
     ]
    },
    {
     "name": "stdout",
     "output_type": "stream",
     "text": [
      "cost=0.963468, accuracy=0.876950\n"
     ]
    },
    {
     "name": "stderr",
     "output_type": "stream",
     "text": [
      "\n",
      "training,   e=15: 100%|██████████| 84/84 [00:00<00:00, 285.76it/s]\n",
      "validation, e=15: 100%|██████████| 34/34 [00:00<00:00, 357.73it/s]"
     ]
    },
    {
     "name": "stdout",
     "output_type": "stream",
     "text": [
      "cost=0.947810, accuracy=0.879550\n"
     ]
    },
    {
     "name": "stderr",
     "output_type": "stream",
     "text": [
      "\n",
      "training,   e=16: 100%|██████████| 84/84 [00:00<00:00, 208.94it/s]\n",
      "validation, e=16: 100%|██████████| 34/34 [00:00<00:00, 302.23it/s]"
     ]
    },
    {
     "name": "stdout",
     "output_type": "stream",
     "text": [
      "cost=0.933927, accuracy=0.881200\n"
     ]
    },
    {
     "name": "stderr",
     "output_type": "stream",
     "text": [
      "\n",
      "training,   e=17: 100%|██████████| 84/84 [00:00<00:00, 282.93it/s]\n",
      "validation, e=17: 100%|██████████| 34/34 [00:00<00:00, 284.90it/s]"
     ]
    },
    {
     "name": "stdout",
     "output_type": "stream",
     "text": [
      "cost=0.921503, accuracy=0.882500\n"
     ]
    },
    {
     "name": "stderr",
     "output_type": "stream",
     "text": [
      "\n",
      "training,   e=18: 100%|██████████| 84/84 [00:00<00:00, 281.95it/s]\n",
      "validation, e=18: 100%|██████████| 34/34 [00:00<00:00, 324.48it/s]"
     ]
    },
    {
     "name": "stdout",
     "output_type": "stream",
     "text": [
      "cost=0.910295, accuracy=0.883700\n"
     ]
    },
    {
     "name": "stderr",
     "output_type": "stream",
     "text": [
      "\n",
      "training,   e=19: 100%|██████████| 84/84 [00:00<00:00, 254.47it/s]\n",
      "validation, e=19: 100%|██████████| 34/34 [00:00<00:00, 409.09it/s]"
     ]
    },
    {
     "name": "stdout",
     "output_type": "stream",
     "text": [
      "cost=0.900114, accuracy=0.884850\n"
     ]
    },
    {
     "name": "stderr",
     "output_type": "stream",
     "text": [
      "\n",
      "training,   e=20: 100%|██████████| 84/84 [00:00<00:00, 313.83it/s]\n",
      "validation, e=20: 100%|██████████| 34/34 [00:00<00:00, 395.49it/s]"
     ]
    },
    {
     "name": "stdout",
     "output_type": "stream",
     "text": [
      "cost=0.890810, accuracy=0.886000\n"
     ]
    },
    {
     "name": "stderr",
     "output_type": "stream",
     "text": [
      "\n",
      "training,   e=21: 100%|██████████| 84/84 [00:00<00:00, 347.27it/s]\n",
      "validation, e=21: 100%|██████████| 34/34 [00:00<00:00, 413.78it/s]"
     ]
    },
    {
     "name": "stdout",
     "output_type": "stream",
     "text": [
      "cost=0.882263, accuracy=0.886800\n"
     ]
    },
    {
     "name": "stderr",
     "output_type": "stream",
     "text": [
      "\n",
      "training,   e=22: 100%|██████████| 84/84 [00:00<00:00, 340.55it/s]\n",
      "validation, e=22: 100%|██████████| 34/34 [00:00<00:00, 411.21it/s]"
     ]
    },
    {
     "name": "stdout",
     "output_type": "stream",
     "text": [
      "cost=0.874375, accuracy=0.887700\n"
     ]
    },
    {
     "name": "stderr",
     "output_type": "stream",
     "text": [
      "\n",
      "training,   e=23: 100%|██████████| 84/84 [00:00<00:00, 347.19it/s]\n",
      "validation, e=23: 100%|██████████| 34/34 [00:00<00:00, 409.14it/s]"
     ]
    },
    {
     "name": "stdout",
     "output_type": "stream",
     "text": [
      "cost=0.867065, accuracy=0.888550\n"
     ]
    },
    {
     "name": "stderr",
     "output_type": "stream",
     "text": [
      "\n",
      "training,   e=24: 100%|██████████| 84/84 [00:00<00:00, 340.70it/s]\n",
      "validation, e=24: 100%|██████████| 34/34 [00:00<00:00, 388.14it/s]"
     ]
    },
    {
     "name": "stdout",
     "output_type": "stream",
     "text": [
      "cost=0.860264, accuracy=0.889550\n"
     ]
    },
    {
     "name": "stderr",
     "output_type": "stream",
     "text": [
      "\n",
      "training,   e=25: 100%|██████████| 84/84 [00:00<00:00, 331.76it/s]\n",
      "validation, e=25: 100%|██████████| 34/34 [00:00<00:00, 400.23it/s]"
     ]
    },
    {
     "name": "stdout",
     "output_type": "stream",
     "text": [
      "cost=0.853916, accuracy=0.890450\n"
     ]
    },
    {
     "name": "stderr",
     "output_type": "stream",
     "text": [
      "\n",
      "training,   e=26: 100%|██████████| 84/84 [00:00<00:00, 342.52it/s]\n",
      "validation, e=26: 100%|██████████| 34/34 [00:00<00:00, 382.69it/s]"
     ]
    },
    {
     "name": "stdout",
     "output_type": "stream",
     "text": [
      "cost=0.847972, accuracy=0.891050\n"
     ]
    },
    {
     "name": "stderr",
     "output_type": "stream",
     "text": [
      "\n",
      "training,   e=27: 100%|██████████| 84/84 [00:00<00:00, 344.88it/s]\n",
      "validation, e=27: 100%|██████████| 34/34 [00:00<00:00, 415.39it/s]"
     ]
    },
    {
     "name": "stdout",
     "output_type": "stream",
     "text": [
      "cost=0.842390, accuracy=0.891750\n"
     ]
    },
    {
     "name": "stderr",
     "output_type": "stream",
     "text": [
      "\n",
      "training,   e=28: 100%|██████████| 84/84 [00:00<00:00, 345.72it/s]\n",
      "validation, e=28: 100%|██████████| 34/34 [00:00<00:00, 403.48it/s]"
     ]
    },
    {
     "name": "stdout",
     "output_type": "stream",
     "text": [
      "cost=0.837135, accuracy=0.892450\n"
     ]
    },
    {
     "name": "stderr",
     "output_type": "stream",
     "text": [
      "\n",
      "training,   e=29: 100%|██████████| 84/84 [00:00<00:00, 335.04it/s]\n",
      "validation, e=29: 100%|██████████| 34/34 [00:00<00:00, 412.85it/s]"
     ]
    },
    {
     "name": "stdout",
     "output_type": "stream",
     "text": [
      "cost=0.832175, accuracy=0.892750\n"
     ]
    },
    {
     "name": "stderr",
     "output_type": "stream",
     "text": [
      "\n",
      "training,   e=30: 100%|██████████| 84/84 [00:00<00:00, 340.11it/s]\n",
      "validation, e=30: 100%|██████████| 34/34 [00:00<00:00, 410.49it/s]"
     ]
    },
    {
     "name": "stdout",
     "output_type": "stream",
     "text": [
      "cost=0.827484, accuracy=0.893300\n"
     ]
    },
    {
     "name": "stderr",
     "output_type": "stream",
     "text": [
      "\n",
      "training,   e=31: 100%|██████████| 84/84 [00:00<00:00, 338.77it/s]\n",
      "validation, e=31: 100%|██████████| 34/34 [00:00<00:00, 404.34it/s]"
     ]
    },
    {
     "name": "stdout",
     "output_type": "stream",
     "text": [
      "cost=0.823037, accuracy=0.893700\n"
     ]
    },
    {
     "name": "stderr",
     "output_type": "stream",
     "text": [
      "\n",
      "training,   e=32: 100%|██████████| 84/84 [00:00<00:00, 341.22it/s]\n",
      "validation, e=32: 100%|██████████| 34/34 [00:00<00:00, 367.96it/s]"
     ]
    },
    {
     "name": "stdout",
     "output_type": "stream",
     "text": [
      "cost=0.818813, accuracy=0.894050\n"
     ]
    },
    {
     "name": "stderr",
     "output_type": "stream",
     "text": [
      "\n",
      "training,   e=33: 100%|██████████| 84/84 [00:00<00:00, 312.82it/s]\n",
      "validation, e=33: 100%|██████████| 34/34 [00:00<00:00, 356.72it/s]"
     ]
    },
    {
     "name": "stdout",
     "output_type": "stream",
     "text": [
      "cost=0.814793, accuracy=0.894300\n"
     ]
    },
    {
     "name": "stderr",
     "output_type": "stream",
     "text": [
      "\n",
      "training,   e=34: 100%|██████████| 84/84 [00:00<00:00, 337.78it/s]\n",
      "validation, e=34: 100%|██████████| 34/34 [00:00<00:00, 217.95it/s]"
     ]
    },
    {
     "name": "stdout",
     "output_type": "stream",
     "text": [
      "cost=0.810962, accuracy=0.894550\n"
     ]
    },
    {
     "name": "stderr",
     "output_type": "stream",
     "text": [
      "\n",
      "training,   e=35: 100%|██████████| 84/84 [00:00<00:00, 208.75it/s]\n",
      "validation, e=35: 100%|██████████| 34/34 [00:00<00:00, 376.32it/s]"
     ]
    },
    {
     "name": "stdout",
     "output_type": "stream",
     "text": [
      "cost=0.807304, accuracy=0.894900\n"
     ]
    },
    {
     "name": "stderr",
     "output_type": "stream",
     "text": [
      "\n",
      "training,   e=36: 100%|██████████| 84/84 [00:00<00:00, 196.86it/s]\n",
      "validation, e=36: 100%|██████████| 34/34 [00:00<00:00, 380.13it/s]"
     ]
    },
    {
     "name": "stdout",
     "output_type": "stream",
     "text": [
      "cost=0.803807, accuracy=0.895200\n"
     ]
    },
    {
     "name": "stderr",
     "output_type": "stream",
     "text": [
      "\n",
      "training,   e=37: 100%|██████████| 84/84 [00:00<00:00, 288.58it/s]\n",
      "validation, e=37: 100%|██████████| 34/34 [00:00<00:00, 340.66it/s]"
     ]
    },
    {
     "name": "stdout",
     "output_type": "stream",
     "text": [
      "cost=0.800457, accuracy=0.895750\n"
     ]
    },
    {
     "name": "stderr",
     "output_type": "stream",
     "text": [
      "\n",
      "training,   e=38: 100%|██████████| 84/84 [00:00<00:00, 220.33it/s]\n",
      "validation, e=38: 100%|██████████| 34/34 [00:00<00:00, 232.24it/s]"
     ]
    },
    {
     "name": "stdout",
     "output_type": "stream",
     "text": [
      "cost=0.797246, accuracy=0.896300\n"
     ]
    },
    {
     "name": "stderr",
     "output_type": "stream",
     "text": [
      "\n",
      "training,   e=39: 100%|██████████| 84/84 [00:00<00:00, 258.30it/s]\n",
      "validation, e=39: 100%|██████████| 34/34 [00:00<00:00, 247.93it/s]"
     ]
    },
    {
     "name": "stdout",
     "output_type": "stream",
     "text": [
      "cost=0.794162, accuracy=0.896550\n"
     ]
    },
    {
     "name": "stderr",
     "output_type": "stream",
     "text": [
      "\n",
      "training,   e=40: 100%|██████████| 84/84 [00:00<00:00, 244.52it/s]\n",
      "validation, e=40: 100%|██████████| 34/34 [00:00<00:00, 243.48it/s]"
     ]
    },
    {
     "name": "stdout",
     "output_type": "stream",
     "text": [
      "cost=0.791198, accuracy=0.896650\n"
     ]
    },
    {
     "name": "stderr",
     "output_type": "stream",
     "text": [
      "\n",
      "training,   e=41: 100%|██████████| 84/84 [00:00<00:00, 278.09it/s]\n",
      "validation, e=41: 100%|██████████| 34/34 [00:00<00:00, 283.95it/s]"
     ]
    },
    {
     "name": "stdout",
     "output_type": "stream",
     "text": [
      "cost=0.788346, accuracy=0.896850\n"
     ]
    },
    {
     "name": "stderr",
     "output_type": "stream",
     "text": [
      "\n",
      "training,   e=42: 100%|██████████| 84/84 [00:00<00:00, 288.15it/s]\n",
      "validation, e=42: 100%|██████████| 34/34 [00:00<00:00, 322.50it/s]"
     ]
    },
    {
     "name": "stdout",
     "output_type": "stream",
     "text": [
      "cost=0.785598, accuracy=0.897150\n"
     ]
    },
    {
     "name": "stderr",
     "output_type": "stream",
     "text": [
      "\n",
      "training,   e=43: 100%|██████████| 84/84 [00:00<00:00, 279.22it/s]\n",
      "validation, e=43: 100%|██████████| 34/34 [00:00<00:00, 393.57it/s]"
     ]
    },
    {
     "name": "stdout",
     "output_type": "stream",
     "text": [
      "cost=0.782949, accuracy=0.897450\n"
     ]
    },
    {
     "name": "stderr",
     "output_type": "stream",
     "text": [
      "\n",
      "training,   e=44: 100%|██████████| 84/84 [00:00<00:00, 235.39it/s]\n",
      "validation, e=44: 100%|██████████| 34/34 [00:00<00:00, 391.83it/s]"
     ]
    },
    {
     "name": "stdout",
     "output_type": "stream",
     "text": [
      "cost=0.780391, accuracy=0.897750\n"
     ]
    },
    {
     "name": "stderr",
     "output_type": "stream",
     "text": [
      "\n",
      "training,   e=45: 100%|██████████| 84/84 [00:00<00:00, 217.77it/s]\n",
      "validation, e=45: 100%|██████████| 34/34 [00:00<00:00, 250.76it/s]"
     ]
    },
    {
     "name": "stdout",
     "output_type": "stream",
     "text": [
      "cost=0.777920, accuracy=0.898250\n"
     ]
    },
    {
     "name": "stderr",
     "output_type": "stream",
     "text": [
      "\n",
      "training,   e=46: 100%|██████████| 84/84 [00:00<00:00, 216.22it/s]\n",
      "validation, e=46: 100%|██████████| 34/34 [00:00<00:00, 237.28it/s]"
     ]
    },
    {
     "name": "stdout",
     "output_type": "stream",
     "text": [
      "cost=0.775531, accuracy=0.898550\n"
     ]
    },
    {
     "name": "stderr",
     "output_type": "stream",
     "text": [
      "\n",
      "training,   e=47: 100%|██████████| 84/84 [00:00<00:00, 308.18it/s]\n",
      "validation, e=47: 100%|██████████| 34/34 [00:00<00:00, 375.39it/s]"
     ]
    },
    {
     "name": "stdout",
     "output_type": "stream",
     "text": [
      "cost=0.773219, accuracy=0.898600\n"
     ]
    },
    {
     "name": "stderr",
     "output_type": "stream",
     "text": [
      "\n",
      "training,   e=48: 100%|██████████| 84/84 [00:00<00:00, 317.09it/s]\n",
      "validation, e=48: 100%|██████████| 34/34 [00:00<00:00, 362.52it/s]"
     ]
    },
    {
     "name": "stdout",
     "output_type": "stream",
     "text": [
      "cost=0.770980, accuracy=0.898850\n"
     ]
    },
    {
     "name": "stderr",
     "output_type": "stream",
     "text": [
      "\n",
      "training,   e=49: 100%|██████████| 84/84 [00:00<00:00, 347.86it/s]\n",
      "validation, e=49: 100%|██████████| 34/34 [00:00<00:00, 391.20it/s]"
     ]
    },
    {
     "name": "stdout",
     "output_type": "stream",
     "text": [
      "cost=0.768810, accuracy=0.898950\n"
     ]
    },
    {
     "name": "stderr",
     "output_type": "stream",
     "text": [
      "\n",
      "training,   e=50: 100%|██████████| 84/84 [00:00<00:00, 339.65it/s]\n",
      "validation, e=50: 100%|██████████| 34/34 [00:00<00:00, 397.13it/s]"
     ]
    },
    {
     "name": "stdout",
     "output_type": "stream",
     "text": [
      "cost=0.766706, accuracy=0.899450\n"
     ]
    },
    {
     "name": "stderr",
     "output_type": "stream",
     "text": [
      "\n",
      "training,   e=51: 100%|██████████| 84/84 [00:00<00:00, 339.84it/s]\n",
      "validation, e=51: 100%|██████████| 34/34 [00:00<00:00, 409.16it/s]"
     ]
    },
    {
     "name": "stdout",
     "output_type": "stream",
     "text": [
      "cost=0.764663, accuracy=0.900100\n"
     ]
    },
    {
     "name": "stderr",
     "output_type": "stream",
     "text": [
      "\n",
      "training,   e=52: 100%|██████████| 84/84 [00:00<00:00, 346.37it/s]\n",
      "validation, e=52: 100%|██████████| 34/34 [00:00<00:00, 384.84it/s]"
     ]
    },
    {
     "name": "stdout",
     "output_type": "stream",
     "text": [
      "cost=0.762680, accuracy=0.900250\n"
     ]
    },
    {
     "name": "stderr",
     "output_type": "stream",
     "text": [
      "\n",
      "training,   e=53: 100%|██████████| 84/84 [00:00<00:00, 342.74it/s]\n",
      "validation, e=53: 100%|██████████| 34/34 [00:00<00:00, 382.77it/s]"
     ]
    },
    {
     "name": "stdout",
     "output_type": "stream",
     "text": [
      "cost=0.760752, accuracy=0.900750\n"
     ]
    },
    {
     "name": "stderr",
     "output_type": "stream",
     "text": [
      "\n",
      "training,   e=54: 100%|██████████| 84/84 [00:00<00:00, 341.43it/s]\n",
      "validation, e=54: 100%|██████████| 34/34 [00:00<00:00, 385.73it/s]"
     ]
    },
    {
     "name": "stdout",
     "output_type": "stream",
     "text": [
      "cost=0.758878, accuracy=0.900900\n"
     ]
    },
    {
     "name": "stderr",
     "output_type": "stream",
     "text": [
      "\n",
      "training,   e=55: 100%|██████████| 84/84 [00:00<00:00, 339.53it/s]\n",
      "validation, e=55: 100%|██████████| 34/34 [00:00<00:00, 391.27it/s]"
     ]
    },
    {
     "name": "stdout",
     "output_type": "stream",
     "text": [
      "cost=0.757055, accuracy=0.901200\n"
     ]
    },
    {
     "name": "stderr",
     "output_type": "stream",
     "text": [
      "\n",
      "training,   e=56: 100%|██████████| 84/84 [00:00<00:00, 335.65it/s]\n",
      "validation, e=56: 100%|██████████| 34/34 [00:00<00:00, 408.18it/s]"
     ]
    },
    {
     "name": "stdout",
     "output_type": "stream",
     "text": [
      "cost=0.755280, accuracy=0.901550\n"
     ]
    },
    {
     "name": "stderr",
     "output_type": "stream",
     "text": [
      "\n",
      "training,   e=57: 100%|██████████| 84/84 [00:00<00:00, 342.94it/s]\n",
      "validation, e=57: 100%|██████████| 34/34 [00:00<00:00, 415.24it/s]"
     ]
    },
    {
     "name": "stdout",
     "output_type": "stream",
     "text": [
      "cost=0.753551, accuracy=0.901950\n"
     ]
    },
    {
     "name": "stderr",
     "output_type": "stream",
     "text": [
      "\n",
      "training,   e=58: 100%|██████████| 84/84 [00:00<00:00, 330.21it/s]\n",
      "validation, e=58: 100%|██████████| 34/34 [00:00<00:00, 410.09it/s]"
     ]
    },
    {
     "name": "stdout",
     "output_type": "stream",
     "text": [
      "cost=0.751867, accuracy=0.902300\n"
     ]
    },
    {
     "name": "stderr",
     "output_type": "stream",
     "text": [
      "\n",
      "training,   e=59: 100%|██████████| 84/84 [00:00<00:00, 345.35it/s]\n",
      "validation, e=59: 100%|██████████| 34/34 [00:00<00:00, 403.69it/s]"
     ]
    },
    {
     "name": "stdout",
     "output_type": "stream",
     "text": [
      "cost=0.750225, accuracy=0.902700\n"
     ]
    },
    {
     "name": "stderr",
     "output_type": "stream",
     "text": [
      "\n",
      "training,   e=60: 100%|██████████| 84/84 [00:00<00:00, 340.63it/s]\n",
      "validation, e=60: 100%|██████████| 34/34 [00:00<00:00, 382.41it/s]"
     ]
    },
    {
     "name": "stdout",
     "output_type": "stream",
     "text": [
      "cost=0.748623, accuracy=0.902450\n"
     ]
    },
    {
     "name": "stderr",
     "output_type": "stream",
     "text": [
      "\n",
      "training,   e=61: 100%|██████████| 84/84 [00:00<00:00, 343.31it/s]\n",
      "validation, e=61: 100%|██████████| 34/34 [00:00<00:00, 406.93it/s]"
     ]
    },
    {
     "name": "stdout",
     "output_type": "stream",
     "text": [
      "cost=0.747060, accuracy=0.902900\n"
     ]
    },
    {
     "name": "stderr",
     "output_type": "stream",
     "text": [
      "\n",
      "training,   e=62: 100%|██████████| 84/84 [00:00<00:00, 346.13it/s]\n",
      "validation, e=62: 100%|██████████| 34/34 [00:00<00:00, 405.23it/s]"
     ]
    },
    {
     "name": "stdout",
     "output_type": "stream",
     "text": [
      "cost=0.745534, accuracy=0.902950\n"
     ]
    },
    {
     "name": "stderr",
     "output_type": "stream",
     "text": [
      "\n",
      "training,   e=63: 100%|██████████| 84/84 [00:00<00:00, 346.66it/s]\n",
      "validation, e=63: 100%|██████████| 34/34 [00:00<00:00, 382.74it/s]"
     ]
    },
    {
     "name": "stdout",
     "output_type": "stream",
     "text": [
      "cost=0.744044, accuracy=0.903000\n"
     ]
    },
    {
     "name": "stderr",
     "output_type": "stream",
     "text": [
      "\n",
      "training,   e=64: 100%|██████████| 84/84 [00:00<00:00, 340.36it/s]\n",
      "validation, e=64: 100%|██████████| 34/34 [00:00<00:00, 408.20it/s]"
     ]
    },
    {
     "name": "stdout",
     "output_type": "stream",
     "text": [
      "cost=0.742588, accuracy=0.903050\n"
     ]
    },
    {
     "name": "stderr",
     "output_type": "stream",
     "text": [
      "\n",
      "training,   e=65: 100%|██████████| 84/84 [00:00<00:00, 340.22it/s]\n",
      "validation, e=65: 100%|██████████| 34/34 [00:00<00:00, 390.06it/s]"
     ]
    },
    {
     "name": "stdout",
     "output_type": "stream",
     "text": [
      "cost=0.741164, accuracy=0.903450\n"
     ]
    },
    {
     "name": "stderr",
     "output_type": "stream",
     "text": [
      "\n",
      "training,   e=66: 100%|██████████| 84/84 [00:00<00:00, 343.71it/s]\n",
      "validation, e=66: 100%|██████████| 34/34 [00:00<00:00, 409.99it/s]"
     ]
    },
    {
     "name": "stdout",
     "output_type": "stream",
     "text": [
      "cost=0.739772, accuracy=0.903600\n"
     ]
    },
    {
     "name": "stderr",
     "output_type": "stream",
     "text": [
      "\n",
      "training,   e=67: 100%|██████████| 84/84 [00:00<00:00, 334.27it/s]\n",
      "validation, e=67: 100%|██████████| 34/34 [00:00<00:00, 408.92it/s]"
     ]
    },
    {
     "name": "stdout",
     "output_type": "stream",
     "text": [
      "cost=0.738410, accuracy=0.903650\n"
     ]
    },
    {
     "name": "stderr",
     "output_type": "stream",
     "text": [
      "\n",
      "training,   e=68: 100%|██████████| 84/84 [00:00<00:00, 340.13it/s]\n",
      "validation, e=68: 100%|██████████| 34/34 [00:00<00:00, 388.35it/s]"
     ]
    },
    {
     "name": "stdout",
     "output_type": "stream",
     "text": [
      "cost=0.737077, accuracy=0.903850\n"
     ]
    },
    {
     "name": "stderr",
     "output_type": "stream",
     "text": [
      "\n",
      "training,   e=69: 100%|██████████| 84/84 [00:00<00:00, 342.29it/s]\n",
      "validation, e=69: 100%|██████████| 34/34 [00:00<00:00, 408.40it/s]"
     ]
    },
    {
     "name": "stdout",
     "output_type": "stream",
     "text": [
      "cost=0.735773, accuracy=0.903850\n"
     ]
    },
    {
     "name": "stderr",
     "output_type": "stream",
     "text": [
      "\n",
      "training,   e=70: 100%|██████████| 84/84 [00:00<00:00, 339.43it/s]\n",
      "validation, e=70: 100%|██████████| 34/34 [00:00<00:00, 410.71it/s]"
     ]
    },
    {
     "name": "stdout",
     "output_type": "stream",
     "text": [
      "cost=0.734495, accuracy=0.904000\n"
     ]
    },
    {
     "name": "stderr",
     "output_type": "stream",
     "text": [
      "\n",
      "training,   e=71: 100%|██████████| 84/84 [00:00<00:00, 334.82it/s]\n",
      "validation, e=71: 100%|██████████| 34/34 [00:00<00:00, 387.67it/s]"
     ]
    },
    {
     "name": "stdout",
     "output_type": "stream",
     "text": [
      "cost=0.733243, accuracy=0.904200\n"
     ]
    },
    {
     "name": "stderr",
     "output_type": "stream",
     "text": [
      "\n",
      "training,   e=72: 100%|██████████| 84/84 [00:00<00:00, 343.46it/s]\n",
      "validation, e=72: 100%|██████████| 34/34 [00:00<00:00, 386.99it/s]"
     ]
    },
    {
     "name": "stdout",
     "output_type": "stream",
     "text": [
      "cost=0.732016, accuracy=0.904450\n"
     ]
    },
    {
     "name": "stderr",
     "output_type": "stream",
     "text": [
      "\n",
      "training,   e=73: 100%|██████████| 84/84 [00:00<00:00, 339.91it/s]\n",
      "validation, e=73: 100%|██████████| 34/34 [00:00<00:00, 406.75it/s]"
     ]
    },
    {
     "name": "stdout",
     "output_type": "stream",
     "text": [
      "cost=0.730814, accuracy=0.904700\n"
     ]
    },
    {
     "name": "stderr",
     "output_type": "stream",
     "text": [
      "\n",
      "training,   e=74: 100%|██████████| 84/84 [00:00<00:00, 339.85it/s]\n",
      "validation, e=74: 100%|██████████| 34/34 [00:00<00:00, 403.85it/s]"
     ]
    },
    {
     "name": "stdout",
     "output_type": "stream",
     "text": [
      "cost=0.729634, accuracy=0.904900\n"
     ]
    },
    {
     "name": "stderr",
     "output_type": "stream",
     "text": [
      "\n",
      "training,   e=75: 100%|██████████| 84/84 [00:00<00:00, 342.19it/s]\n",
      "validation, e=75: 100%|██████████| 34/34 [00:00<00:00, 408.05it/s]"
     ]
    },
    {
     "name": "stdout",
     "output_type": "stream",
     "text": [
      "cost=0.728477, accuracy=0.905100\n"
     ]
    },
    {
     "name": "stderr",
     "output_type": "stream",
     "text": [
      "\n",
      "training,   e=76: 100%|██████████| 84/84 [00:00<00:00, 329.96it/s]\n",
      "validation, e=76: 100%|██████████| 34/34 [00:00<00:00, 409.62it/s]"
     ]
    },
    {
     "name": "stdout",
     "output_type": "stream",
     "text": [
      "cost=0.727342, accuracy=0.905200\n"
     ]
    },
    {
     "name": "stderr",
     "output_type": "stream",
     "text": [
      "\n",
      "training,   e=77: 100%|██████████| 84/84 [00:00<00:00, 338.82it/s]\n",
      "validation, e=77: 100%|██████████| 34/34 [00:00<00:00, 407.81it/s]"
     ]
    },
    {
     "name": "stdout",
     "output_type": "stream",
     "text": [
      "cost=0.726228, accuracy=0.905550\n"
     ]
    },
    {
     "name": "stderr",
     "output_type": "stream",
     "text": [
      "\n",
      "training,   e=78: 100%|██████████| 84/84 [00:00<00:00, 346.30it/s]\n",
      "validation, e=78: 100%|██████████| 34/34 [00:00<00:00, 400.74it/s]"
     ]
    },
    {
     "name": "stdout",
     "output_type": "stream",
     "text": [
      "cost=0.725134, accuracy=0.905800\n"
     ]
    },
    {
     "name": "stderr",
     "output_type": "stream",
     "text": [
      "\n",
      "training,   e=79: 100%|██████████| 84/84 [00:00<00:00, 311.70it/s]\n",
      "validation, e=79: 100%|██████████| 34/34 [00:00<00:00, 381.14it/s]"
     ]
    },
    {
     "name": "stdout",
     "output_type": "stream",
     "text": [
      "cost=0.724060, accuracy=0.906150\n"
     ]
    },
    {
     "name": "stderr",
     "output_type": "stream",
     "text": [
      "\n",
      "training,   e=80: 100%|██████████| 84/84 [00:00<00:00, 337.24it/s]\n",
      "validation, e=80: 100%|██████████| 34/34 [00:00<00:00, 404.73it/s]"
     ]
    },
    {
     "name": "stdout",
     "output_type": "stream",
     "text": [
      "cost=0.723005, accuracy=0.906050\n"
     ]
    },
    {
     "name": "stderr",
     "output_type": "stream",
     "text": [
      "\n",
      "training,   e=81: 100%|██████████| 84/84 [00:00<00:00, 338.54it/s]\n",
      "validation, e=81: 100%|██████████| 34/34 [00:00<00:00, 405.82it/s]"
     ]
    },
    {
     "name": "stdout",
     "output_type": "stream",
     "text": [
      "cost=0.721968, accuracy=0.906350\n"
     ]
    },
    {
     "name": "stderr",
     "output_type": "stream",
     "text": [
      "\n",
      "training,   e=82: 100%|██████████| 84/84 [00:00<00:00, 331.95it/s]\n",
      "validation, e=82: 100%|██████████| 34/34 [00:00<00:00, 383.78it/s]"
     ]
    },
    {
     "name": "stdout",
     "output_type": "stream",
     "text": [
      "cost=0.720949, accuracy=0.906500\n"
     ]
    },
    {
     "name": "stderr",
     "output_type": "stream",
     "text": [
      "\n",
      "training,   e=83: 100%|██████████| 84/84 [00:00<00:00, 339.56it/s]\n",
      "validation, e=83: 100%|██████████| 34/34 [00:00<00:00, 379.78it/s]"
     ]
    },
    {
     "name": "stdout",
     "output_type": "stream",
     "text": [
      "cost=0.719947, accuracy=0.906400\n"
     ]
    },
    {
     "name": "stderr",
     "output_type": "stream",
     "text": [
      "\n",
      "training,   e=84: 100%|██████████| 84/84 [00:00<00:00, 340.06it/s]\n",
      "validation, e=84: 100%|██████████| 34/34 [00:00<00:00, 410.43it/s]"
     ]
    },
    {
     "name": "stdout",
     "output_type": "stream",
     "text": [
      "cost=0.718962, accuracy=0.906550\n"
     ]
    },
    {
     "name": "stderr",
     "output_type": "stream",
     "text": [
      "\n",
      "training,   e=85: 100%|██████████| 84/84 [00:00<00:00, 339.43it/s]\n",
      "validation, e=85: 100%|██████████| 34/34 [00:00<00:00, 403.98it/s]"
     ]
    },
    {
     "name": "stdout",
     "output_type": "stream",
     "text": [
      "cost=0.717993, accuracy=0.906700\n"
     ]
    },
    {
     "name": "stderr",
     "output_type": "stream",
     "text": [
      "\n",
      "training,   e=86: 100%|██████████| 84/84 [00:00<00:00, 307.17it/s]\n",
      "validation, e=86: 100%|██████████| 34/34 [00:00<00:00, 385.12it/s]"
     ]
    },
    {
     "name": "stdout",
     "output_type": "stream",
     "text": [
      "cost=0.717040, accuracy=0.906850\n"
     ]
    },
    {
     "name": "stderr",
     "output_type": "stream",
     "text": [
      "\n",
      "training,   e=87: 100%|██████████| 84/84 [00:00<00:00, 336.13it/s]\n",
      "validation, e=87: 100%|██████████| 34/34 [00:00<00:00, 381.38it/s]"
     ]
    },
    {
     "name": "stdout",
     "output_type": "stream",
     "text": [
      "cost=0.716102, accuracy=0.906900\n"
     ]
    },
    {
     "name": "stderr",
     "output_type": "stream",
     "text": [
      "\n",
      "training,   e=88: 100%|██████████| 84/84 [00:00<00:00, 345.43it/s]\n",
      "validation, e=88: 100%|██████████| 34/34 [00:00<00:00, 404.03it/s]"
     ]
    },
    {
     "name": "stdout",
     "output_type": "stream",
     "text": [
      "cost=0.715179, accuracy=0.907050\n"
     ]
    },
    {
     "name": "stderr",
     "output_type": "stream",
     "text": [
      "\n",
      "training,   e=89: 100%|██████████| 84/84 [00:00<00:00, 341.53it/s]\n",
      "validation, e=89: 100%|██████████| 34/34 [00:00<00:00, 409.32it/s]"
     ]
    },
    {
     "name": "stdout",
     "output_type": "stream",
     "text": [
      "cost=0.714270, accuracy=0.907100\n"
     ]
    },
    {
     "name": "stderr",
     "output_type": "stream",
     "text": [
      "\n",
      "training,   e=90: 100%|██████████| 84/84 [00:00<00:00, 340.06it/s]\n",
      "validation, e=90: 100%|██████████| 34/34 [00:00<00:00, 409.87it/s]"
     ]
    },
    {
     "name": "stdout",
     "output_type": "stream",
     "text": [
      "cost=0.713376, accuracy=0.907150\n"
     ]
    },
    {
     "name": "stderr",
     "output_type": "stream",
     "text": [
      "\n",
      "training,   e=91: 100%|██████████| 84/84 [00:00<00:00, 339.31it/s]\n",
      "validation, e=91: 100%|██████████| 34/34 [00:00<00:00, 412.61it/s]"
     ]
    },
    {
     "name": "stdout",
     "output_type": "stream",
     "text": [
      "cost=0.712495, accuracy=0.907050\n"
     ]
    },
    {
     "name": "stderr",
     "output_type": "stream",
     "text": [
      "\n",
      "training,   e=92: 100%|██████████| 84/84 [00:00<00:00, 340.28it/s]\n",
      "validation, e=92: 100%|██████████| 34/34 [00:00<00:00, 385.45it/s]"
     ]
    },
    {
     "name": "stdout",
     "output_type": "stream",
     "text": [
      "cost=0.711627, accuracy=0.907100\n"
     ]
    },
    {
     "name": "stderr",
     "output_type": "stream",
     "text": [
      "\n",
      "training,   e=93: 100%|██████████| 84/84 [00:00<00:00, 342.40it/s]\n",
      "validation, e=93: 100%|██████████| 34/34 [00:00<00:00, 400.78it/s]"
     ]
    },
    {
     "name": "stdout",
     "output_type": "stream",
     "text": [
      "cost=0.710772, accuracy=0.907250\n"
     ]
    },
    {
     "name": "stderr",
     "output_type": "stream",
     "text": [
      "\n",
      "training,   e=94: 100%|██████████| 84/84 [00:00<00:00, 343.07it/s]\n",
      "validation, e=94: 100%|██████████| 34/34 [00:00<00:00, 398.37it/s]"
     ]
    },
    {
     "name": "stdout",
     "output_type": "stream",
     "text": [
      "cost=0.709930, accuracy=0.907450\n"
     ]
    },
    {
     "name": "stderr",
     "output_type": "stream",
     "text": [
      "\n",
      "training,   e=95: 100%|██████████| 84/84 [00:00<00:00, 338.04it/s]\n",
      "validation, e=95: 100%|██████████| 34/34 [00:00<00:00, 397.67it/s]"
     ]
    },
    {
     "name": "stdout",
     "output_type": "stream",
     "text": [
      "cost=0.709099, accuracy=0.907500\n"
     ]
    },
    {
     "name": "stderr",
     "output_type": "stream",
     "text": [
      "\n",
      "training,   e=96: 100%|██████████| 84/84 [00:00<00:00, 342.02it/s]\n",
      "validation, e=96: 100%|██████████| 34/34 [00:00<00:00, 386.17it/s]"
     ]
    },
    {
     "name": "stdout",
     "output_type": "stream",
     "text": [
      "cost=0.708281, accuracy=0.907550\n"
     ]
    },
    {
     "name": "stderr",
     "output_type": "stream",
     "text": [
      "\n",
      "training,   e=97: 100%|██████████| 84/84 [00:00<00:00, 343.31it/s]\n",
      "validation, e=97: 100%|██████████| 34/34 [00:00<00:00, 402.60it/s]"
     ]
    },
    {
     "name": "stdout",
     "output_type": "stream",
     "text": [
      "cost=0.707474, accuracy=0.907950\n"
     ]
    },
    {
     "name": "stderr",
     "output_type": "stream",
     "text": [
      "\n",
      "training,   e=98: 100%|██████████| 84/84 [00:00<00:00, 342.30it/s]\n",
      "validation, e=98: 100%|██████████| 34/34 [00:00<00:00, 384.01it/s]"
     ]
    },
    {
     "name": "stdout",
     "output_type": "stream",
     "text": [
      "cost=0.706679, accuracy=0.908100\n"
     ]
    },
    {
     "name": "stderr",
     "output_type": "stream",
     "text": [
      "\n",
      "training,   e=99: 100%|██████████| 84/84 [00:00<00:00, 342.88it/s]\n",
      "validation, e=99: 100%|██████████| 34/34 [00:00<00:00, 385.82it/s]"
     ]
    },
    {
     "name": "stdout",
     "output_type": "stream",
     "text": [
      "cost=0.705894, accuracy=0.908200\n"
     ]
    },
    {
     "name": "stderr",
     "output_type": "stream",
     "text": [
      "\n",
      "/miniconda3/envs/py36n/lib/python3.6/site-packages/sklearn/preprocessing/_encoders.py:373: DeprecationWarning: Passing 'n_values' is deprecated in version 0.20 and will be removed in 0.22. You can use the 'categories' keyword instead. 'n_values=n' corresponds to 'categories=[range(n)] * n_features'.\n",
      "  warnings.warn(msg, DeprecationWarning)\n",
      "training,   e=0: 100%|██████████| 84/84 [00:01<00:00, 55.66it/s]\n",
      "validation, e=0: 100%|██████████| 34/34 [00:00<00:00, 96.12it/s]"
     ]
    },
    {
     "name": "stdout",
     "output_type": "stream",
     "text": [
      "cost=3.940944, accuracy=0.416250\n"
     ]
    },
    {
     "name": "stderr",
     "output_type": "stream",
     "text": [
      "\n",
      "training,   e=1: 100%|██████████| 84/84 [00:02<00:00, 40.53it/s]\n",
      "validation, e=1: 100%|██████████| 34/34 [00:00<00:00, 88.37it/s]"
     ]
    },
    {
     "name": "stdout",
     "output_type": "stream",
     "text": [
      "cost=3.151746, accuracy=0.577250\n"
     ]
    },
    {
     "name": "stderr",
     "output_type": "stream",
     "text": [
      "\n",
      "training,   e=2: 100%|██████████| 84/84 [00:01<00:00, 45.41it/s]\n",
      "validation, e=2: 100%|██████████| 34/34 [00:00<00:00, 154.45it/s]"
     ]
    },
    {
     "name": "stdout",
     "output_type": "stream",
     "text": [
      "cost=2.725913, accuracy=0.664250\n"
     ]
    },
    {
     "name": "stderr",
     "output_type": "stream",
     "text": [
      "\n",
      "training,   e=3: 100%|██████████| 84/84 [00:01<00:00, 61.58it/s]\n",
      "validation, e=3: 100%|██████████| 34/34 [00:00<00:00, 151.86it/s]"
     ]
    },
    {
     "name": "stdout",
     "output_type": "stream",
     "text": [
      "cost=2.399525, accuracy=0.726800\n"
     ]
    },
    {
     "name": "stderr",
     "output_type": "stream",
     "text": [
      "\n",
      "training,   e=4: 100%|██████████| 84/84 [00:01<00:00, 63.00it/s]\n",
      "validation, e=4: 100%|██████████| 34/34 [00:00<00:00, 151.08it/s]"
     ]
    },
    {
     "name": "stdout",
     "output_type": "stream",
     "text": [
      "cost=2.156184, accuracy=0.770650\n"
     ]
    },
    {
     "name": "stderr",
     "output_type": "stream",
     "text": [
      "\n",
      "training,   e=5: 100%|██████████| 84/84 [00:01<00:00, 62.10it/s]\n",
      "validation, e=5: 100%|██████████| 34/34 [00:00<00:00, 152.91it/s]"
     ]
    },
    {
     "name": "stdout",
     "output_type": "stream",
     "text": [
      "cost=1.970701, accuracy=0.799300\n"
     ]
    },
    {
     "name": "stderr",
     "output_type": "stream",
     "text": [
      "\n",
      "training,   e=6: 100%|██████████| 84/84 [00:01<00:00, 61.73it/s]\n",
      "validation, e=6: 100%|██████████| 34/34 [00:00<00:00, 149.29it/s]"
     ]
    },
    {
     "name": "stdout",
     "output_type": "stream",
     "text": [
      "cost=1.826022, accuracy=0.817200\n"
     ]
    },
    {
     "name": "stderr",
     "output_type": "stream",
     "text": [
      "\n",
      "training,   e=7: 100%|██████████| 84/84 [00:01<00:00, 61.59it/s]\n",
      "validation, e=7: 100%|██████████| 34/34 [00:00<00:00, 150.47it/s]"
     ]
    },
    {
     "name": "stdout",
     "output_type": "stream",
     "text": [
      "cost=1.710642, accuracy=0.828200\n"
     ]
    },
    {
     "name": "stderr",
     "output_type": "stream",
     "text": [
      "\n",
      "training,   e=8:  65%|██████▌   | 55/84 [00:00<00:00, 62.66it/s]"
     ]
    }
   ],
   "source": [
    "# define hyperparameters\n",
    "input_size = 28**2\n",
    "label_size = 10\n",
    "batch_size = 600\n",
    "learning_rate = 0.0001\n",
    "number_epochs = 100\n",
    "\n",
    "random_input = np.random.rand(batch_size, input_size)\n",
    "random_label = np.random.rand(batch_size, label_size)\n",
    "\n",
    "linear_layer = Linear(input_size, label_size)\n",
    "sigmoid_layer = Sigmoid()\n",
    "cost_function = MeanSquareError()\n",
    "\n",
    "# ----- add code for task 2f between comments -----\n",
    "# -------------------------------------------------\n",
    "\n",
    "# ----- add code for task 3b between comments -----\n",
    "# -------------------------------------------------\n",
    "\n",
    "# ----- add code for task 4 between comments ------\n",
    "# -------------------------------------------------\n",
    "\n",
    "# ----- add code for task 5 between comments ------\n",
    "# -------------------------------------------------"
   ]
  },
  {
   "cell_type": "markdown",
   "metadata": {},
   "source": [
    "### Feedback\n",
    "\n",
    "Aaaaaand we're done 👏🏼🍻\n",
    "\n",
    "If you have any suggestions on how we could improve this session, please let us know in the following cell. What did you particularly like or dislike? Did you miss any contents?"
   ]
  },
  {
   "cell_type": "markdown",
   "metadata": {},
   "source": []
  },
  {
   "cell_type": "markdown",
   "metadata": {},
   "source": [
    "### Additional Tasks\n",
    "\n",
    "**Task 6a:** Implement the `forward` function for the `SoftMax` layer.\n",
    "\n",
    "**Task 6b:** Implement the `estimate` function for the `CrossEntropy` cost.\n",
    "\n",
    "**Task 6c:** Implement the `gradient` function for the `CrossEntropy` cost.\n",
    "\n",
    "**Task 6d:** Implement the `backward` function for the `SoftMax` layer.\n",
    "\n",
    "**Task 6e:** Test your implementation by setting up a network using the soft max layer and cross entropy cost in combination."
   ]
  },
  {
   "cell_type": "code",
   "execution_count": null,
   "metadata": {},
   "outputs": [],
   "source": [
    "class SoftMax(Layer):\n",
    "    def __init__(self):\n",
    "        self.x_out = None\n",
    "\n",
    "    def forward(self, x_in):\n",
    "        # ----- add code for task 6a between comments -----\n",
    "        # -------------------------------------------------\n",
    "        return self.x_out\n",
    "\n",
    "    def backward(self, d_out):\n",
    "        # ----- add code for task 6d between comments -----\n",
    "        # -------------------------------------------------\n",
    "        return d_in\n",
    "\n",
    "\n",
    "class CrossEntropy(Cost):\n",
    "    def __init__(self):\n",
    "        self.x_in = None\n",
    "        self.target = None\n",
    "        self.eps = 1e-12\n",
    "\n",
    "    def estimate(self, target, x_in):\n",
    "        # ----- add code for task 6b between comments -----\n",
    "        # -------------------------------------------------\n",
    "        return cost\n",
    "\n",
    "    def gradient(self, d_out):\n",
    "        # ----- add code for task 6c between comments -----\n",
    "        # -------------------------------------------------\n",
    "        return gradient\n"
   ]
  },
  {
   "cell_type": "code",
   "execution_count": null,
   "metadata": {},
   "outputs": [],
   "source": [
    "# define hyperparameters\n",
    "input_size = 28**2\n",
    "label_size = 10\n",
    "batch_size = 600\n",
    "learning_rate = 0.00001\n",
    "number_epochs = 100\n",
    "\n",
    "# ----- add code for task 6e between comments -----\n",
    "# -------------------------------------------------"
   ]
  },
  {
   "cell_type": "markdown",
   "metadata": {},
   "source": [
   ]
  },
  {
   "cell_type": "code",
   "execution_count": null,
   "metadata": {},
   "outputs": [],
   "source": [
   ]
  }
 ],
 "metadata": {
  "kernelspec": {
   "display_name": "Python 3",
   "language": "python",
   "name": "python3"
  },
  "language_info": {
   "codemirror_mode": {
    "name": "ipython",
    "version": 3
   },
   "file_extension": ".py",
   "mimetype": "text/x-python",
   "name": "python",
   "nbconvert_exporter": "python",
   "pygments_lexer": "ipython3",
   "version": "3.6.9"
  }
 },
 "nbformat": 4,
 "nbformat_minor": 2
}
